{
 "cells": [
  {
   "cell_type": "code",
   "execution_count": 11,
   "metadata": {
    "scrolled": true,
    "tags": [
     "uses-hardware"
    ]
   },
   "outputs": [],
   "source": [
    "from qiskit.tools.jupyter import *\n",
    "from qiskit.tools.monitor import job_monitor\n",
    "from qiskit import pulse\n",
    "from qiskit.pulse import Play\n",
    "from qiskit.pulse import library as pulse_lib\n",
    "from qiskit import assemble\n",
    "from qiskit.tools.monitor import job_monitor\n",
    "import numpy as np\n",
    "import matplotlib.pyplot as plt"
   ]
  },
  {
   "cell_type": "code",
   "execution_count": 3,
   "metadata": {
    "tags": [
     "uses-hardware"
    ]
   },
   "outputs": [
    {
     "name": "stderr",
     "output_type": "stream",
     "text": [
      "C:\\Users\\Owner\\anaconda3\\lib\\site-packages\\qiskit\\providers\\ibmq\\ibmqfactory.py:192: UserWarning: Timestamps in IBMQ backend properties, jobs, and job results are all now in local time instead of UTC.\n",
      "  warnings.warn('Timestamps in IBMQ backend properties, jobs, and job results '\n"
     ]
    }
   ],
   "source": [
    "from qiskit import IBMQ\n",
    "IBMQ.load_account()\n",
    "provider = IBMQ.get_provider(hub='ibm-q', group='open', project='main')\n",
    "backend = provider.get_backend('ibmq_armonk')\n"
   ]
  },
  {
   "cell_type": "code",
   "execution_count": 4,
   "metadata": {
    "tags": [
     "uses-hardware"
    ]
   },
   "outputs": [],
   "source": [
    "backend_config = backend.configuration()\n",
    "assert backend_config.open_pulse, \"Backend doesn't support Pulse\""
   ]
  },
  {
   "cell_type": "code",
   "execution_count": 5,
   "metadata": {
    "tags": [
     "uses-hardware"
    ]
   },
   "outputs": [
    {
     "name": "stdout",
     "output_type": "stream",
     "text": [
      "Sampling time: 0.2222222222222222 ns\n"
     ]
    }
   ],
   "source": [
    "dt = backend_config.dt\n",
    "print(f\"Sampling time: {dt*1e9} ns\")    # The configuration returns dt in seconds, so multiply by\n",
    "                                        # 1e9 to get nanoseconds"
   ]
  },
  {
   "cell_type": "code",
   "execution_count": 6,
   "metadata": {
    "scrolled": false,
    "tags": [
     "uses-hardware"
    ]
   },
   "outputs": [],
   "source": [
    "backend_defaults = backend.defaults()"
   ]
  },
  {
   "cell_type": "code",
   "execution_count": 7,
   "metadata": {
    "tags": [
     "uses-hardware"
    ]
   },
   "outputs": [
    {
     "name": "stdout",
     "output_type": "stream",
     "text": [
      "Qubit 0 has an estimated frequency of 4.971668799203706 GHz.\n"
     ]
    }
   ],
   "source": [
    "# unit conversion factors -> all backend properties returned in SI (Hz, sec, etc)\n",
    "GHz = 1.0e9 # Gigahertz\n",
    "MHz = 1.0e6 # Megahertz\n",
    "us = 1.0e-6 # Microseconds\n",
    "ns = 1.0e-9 # Nanoseconds\n",
    "\n",
    "qubit = 0\n",
    "\n",
    "center_frequency_Hz = backend_defaults.qubit_freq_est[qubit]        # The default frequency is given in Hz\n",
    "                                                                    # warning: this will change in a future release\n",
    "print(f\"Qubit {qubit} has an estimated frequency of {center_frequency_Hz / GHz} GHz.\")"
   ]
  },
  {
   "cell_type": "code",
   "execution_count": 8,
   "metadata": {
    "tags": [
     "uses-hardware"
    ]
   },
   "outputs": [],
   "source": [
    "# Find out which group of qubits need to be acquired with this qubit\n",
    "meas_map_idx = None\n",
    "for i, measure_group in enumerate(backend_config.meas_map):\n",
    "    if qubit in measure_group:\n",
    "        meas_map_idx = i\n",
    "        break\n",
    "assert meas_map_idx is not None, f\"Couldn't find qubit {qubit} in the meas_map!\""
   ]
  },
  {
   "cell_type": "code",
   "execution_count": 12,
   "metadata": {
    "tags": [
     "uses-hardware"
    ]
   },
   "outputs": [],
   "source": [
    "### Collect the necessary channels\n",
    "drive_chan = pulse.DriveChannel(qubit)\n",
    "meas_chan = pulse.MeasureChannel(qubit)\n",
    "acq_chan = pulse.AcquireChannel(qubit)"
   ]
  },
  {
   "cell_type": "code",
   "execution_count": 13,
   "metadata": {},
   "outputs": [],
   "source": [
    "def plot_shot_results(job):\n",
    "    from matplotlib import pyplot as plt\n",
    "    y_pulse_results = job.result(timeout=120)\n",
    "    measure_list = y_pulse_results.get_counts()\n",
    "    zero_list = []\n",
    "    sum_list = []\n",
    "    print(measure_list)\n",
    "    for prob in measure_list:\n",
    "        s = 0.\n",
    "        for x in prob:\n",
    "            s+=prob[x]\n",
    "        sum_list.append(s)\n",
    "        try:\n",
    "            zero_list.append(prob['1'])\n",
    "        except:\n",
    "            zero_list.append(0)\n",
    "    print(zero_list)\n",
    "    plt.plot(sum_list)\n",
    "    plt.plot(zero_list, '.')\n",
    "    plt.show()"
   ]
  },
  {
   "cell_type": "code",
   "execution_count": 14,
   "metadata": {
    "tags": [
     "uses-hardware"
    ]
   },
   "outputs": [],
   "source": [
    "# samples need to be multiples of 16\n",
    "def get_closest_multiple_of_16(num):\n",
    "    return int(num + 8 ) - (int(num + 8 ) % 16)"
   ]
  },
  {
   "cell_type": "code",
   "execution_count": 15,
   "metadata": {},
   "outputs": [],
   "source": [
    "inst_sched_map = backend_defaults.instruction_schedule_map\n",
    "measure = inst_sched_map.get('measure', qubits=backend_config.meas_map[meas_map_idx])"
   ]
  },
  {
   "cell_type": "code",
   "execution_count": 16,
   "metadata": {
    "tags": [
     "uses-hardware"
    ]
   },
   "outputs": [],
   "source": [
    "from scipy.optimize import curve_fit\n",
    "\n",
    "def fit_function(x_values, y_values, function, init_params):\n",
    "    fitparams, conv = curve_fit(function, x_values, y_values, init_params)\n",
    "    y_fit = function(x_values, *fitparams)\n",
    "    \n",
    "    return fitparams, y_fit"
   ]
  },
  {
   "cell_type": "code",
   "execution_count": 17,
   "metadata": {},
   "outputs": [],
   "source": [
    "drive_sigma_us = 0.075                     # This determines the actual width of the gaussian\n",
    "drive_samples_us = drive_sigma_us*8        # This is a truncating parameter, because gaussians don't have \n",
    "                                           # a natural finite length\n",
    "\n",
    "drive_sigma = get_closest_multiple_of_16(drive_sigma_us * us /dt)       # The width of the gaussian in units of dt\n",
    "drive_samples = get_closest_multiple_of_16(drive_samples_us * us /dt)   # The truncating "
   ]
  },
  {
   "cell_type": "markdown",
   "metadata": {
    "tags": [
     "uses-hardware"
    ]
   },
   "source": [
    "# 1. Define Gaussian Clifford Gates"
   ]
  },
  {
   "cell_type": "code",
   "execution_count": 104,
   "metadata": {},
   "outputs": [],
   "source": [
    "pi_amp = 0.1338881278135786\n",
    "x_pi_pulse = pulse_lib.gaussian(duration=drive_samples,\n",
    "                              amp=pi_amp, \n",
    "                              sigma=drive_sigma,\n",
    "                              name='x_pi_pulse')\n",
    "x_halfpi_pulse = pulse_lib.gaussian(duration=drive_samples,\n",
    "                              amp=pi_amp/2, \n",
    "                              sigma=drive_sigma,\n",
    "                              name='x_halfpi_pulse')\n",
    "minus_x_halfpi_pulse = pulse_lib.gaussian(duration=drive_samples,\n",
    "                              amp=3*pi_amp/2, \n",
    "                              sigma=drive_sigma,\n",
    "                              name='x_minus_halfpi_pulse')\n",
    "y_pi_pulse = pulse_lib.gaussian(duration=drive_samples,\n",
    "                              amp=pi_amp *1j, \n",
    "                              sigma=drive_sigma,\n",
    "                              name='y_pi_pulse')\n",
    "y_halfpi_pulse = pulse_lib.gaussian(duration=drive_samples,\n",
    "                              amp=pi_amp/2*1j, \n",
    "                              sigma=drive_sigma,\n",
    "                              name='y_halfpi_pulse')\n",
    "minus_y_halfpi_pulse = pulse_lib.gaussian(duration=drive_samples,\n",
    "                              amp=3*pi_amp/2*1j, \n",
    "                              sigma=drive_sigma,\n",
    "                              name='y_minus_halfpi_pulse')"
   ]
  },
  {
   "cell_type": "code",
   "execution_count": 97,
   "metadata": {},
   "outputs": [],
   "source": [
    "z_pi_pulse_samples = np.concatenate((x_pi_pulse.samples, y_pi_pulse.samples))\n",
    "z_pi_pulse = pulse.Waveform(z_pi_pulse_samples, name = 'z_pi_pulse')\n",
    "z_halfpi_pulse_samples = np.concatenate((y_halfpi_pulse.samples,x_halfpi_pulse.samples, minus_y_halfpi_pulse.samples))\n",
    "z_halfpi_pulse =  pulse.Waveform(z_halfpi_pulse_samples, name = 'z_halfpi_pulse')     \n",
    "hadamard_pulse_samples = np.concatenate((y_halfpi_pulse.samples, x_pi_pulse.samples))\n",
    "hadamard_pulse =  pulse.Waveform(hadamard_pulse_samples, name = 'hadamard_pulse')  "
   ]
  },
  {
   "cell_type": "markdown",
   "metadata": {},
   "source": [
    "### (check z gate) - optional"
   ]
  },
  {
   "cell_type": "code",
   "execution_count": 77,
   "metadata": {},
   "outputs": [],
   "source": [
    "amplitude_detuning_array = np.linspace(0.8, 1.2, 40)\n",
    "schedules = [] \n",
    "for amplitude_detuning in amplitude_detuning_array:\n",
    "    this_schedule = Play(halfpi_pulse, drive_chan)\n",
    "    this_schedule += Play(pulse.Waveform(z_pi_pulse_samples * amplitude_detuning), drive_chan)\n",
    "    this_schedule += Play(halfpi_pulse, drive_chan)\n",
    "    this_schedule += measure << this_schedule.duration\n",
    "    schedules.append(this_schedule)"
   ]
  },
  {
   "cell_type": "code",
   "execution_count": 78,
   "metadata": {},
   "outputs": [
    {
     "data": {
      "image/png": "[encoded data removed]",
      "text/plain": [
       "<Figure size 1500x1800 with 1 Axes>"
      ]
     },
     "execution_count": 78,
     "metadata": {},
     "output_type": "execute_result"
    }
   ],
   "source": [
    "schedules[-1].draw(label = True)"
   ]
  },
  {
   "cell_type": "code",
   "execution_count": 79,
   "metadata": {},
   "outputs": [
    {
     "name": "stdout",
     "output_type": "stream",
     "text": [
      "Job Status: job has successfully run\n"
     ]
    }
   ],
   "source": [
    "num_shots_per_point = 1024\n",
    "z_gate_experiment_program = assemble(schedules,\n",
    "                                   backend=backend,\n",
    "                                   meas_level=2,\n",
    "                                   meas_return='avg',\n",
    "                                   shots=num_shots_per_point,\n",
    "                                   schedule_los = [{drive_chan:center_frequency_Hz}]\n",
    "                                                * len(amplitude_detuning_array)\n",
    "                                 )\n",
    "from qiskit.tools.monitor import job_monitor\n",
    "job = backend.run(z_gate_experiment_program)\n",
    "job_monitor(job)"
   ]
  },
  {
   "cell_type": "code",
   "execution_count": 80,
   "metadata": {},
   "outputs": [
    {
     "name": "stdout",
     "output_type": "stream",
     "text": [
      "[{'0': 917, '1': 107}, {'0': 940, '1': 84}, {'0': 952, '1': 72}, {'0': 945, '1': 79}, {'0': 958, '1': 66}, {'0': 963, '1': 61}, {'0': 964, '1': 60}, {'0': 970, '1': 54}, {'0': 966, '1': 58}, {'0': 980, '1': 44}, {'0': 988, '1': 36}, {'0': 985, '1': 39}, {'0': 991, '1': 33}, {'0': 1006, '1': 18}, {'0': 997, '1': 27}, {'0': 993, '1': 31}, {'0': 997, '1': 27}, {'0': 994, '1': 30}, {'0': 1000, '1': 24}, {'0': 998, '1': 26}, {'0': 994, '1': 30}, {'0': 987, '1': 37}, {'0': 979, '1': 45}, {'0': 987, '1': 37}, {'0': 982, '1': 42}, {'0': 975, '1': 49}, {'0': 962, '1': 62}, {'0': 975, '1': 49}, {'0': 960, '1': 64}, {'0': 945, '1': 79}, {'0': 930, '1': 94}, {'0': 931, '1': 93}, {'0': 920, '1': 104}, {'0': 908, '1': 116}, {'0': 893, '1': 131}, {'0': 920, '1': 104}, {'0': 866, '1': 158}, {'0': 866, '1': 158}, {'0': 855, '1': 169}, {'0': 830, '1': 194}]\n",
      "[107, 84, 72, 79, 66, 61, 60, 54, 58, 44, 36, 39, 33, 18, 27, 31, 27, 30, 24, 26, 30, 37, 45, 37, 42, 49, 62, 49, 64, 79, 94, 93, 104, 116, 131, 104, 158, 158, 169, 194]\n"
     ]
    },
    {
     "data": {
      "image/png": "[encoded data removed]",
      "text/plain": [
       "<Figure size 432x288 with 1 Axes>"
      ]
     },
     "metadata": {
      "needs_background": "light"
     },
     "output_type": "display_data"
    }
   ],
   "source": [
    "plot_shot_results(job)"
   ]
  },
  {
   "cell_type": "code",
   "execution_count": 89,
   "metadata": {},
   "outputs": [
    {
     "name": "stdout",
     "output_type": "stream",
     "text": [
      "[{'0': 917, '1': 107}, {'0': 940, '1': 84}, {'0': 952, '1': 72}, {'0': 945, '1': 79}, {'0': 958, '1': 66}, {'0': 963, '1': 61}, {'0': 964, '1': 60}, {'0': 970, '1': 54}, {'0': 966, '1': 58}, {'0': 980, '1': 44}, {'0': 988, '1': 36}, {'0': 985, '1': 39}, {'0': 991, '1': 33}, {'0': 1006, '1': 18}, {'0': 997, '1': 27}, {'0': 993, '1': 31}, {'0': 997, '1': 27}, {'0': 994, '1': 30}, {'0': 1000, '1': 24}, {'0': 998, '1': 26}, {'0': 994, '1': 30}, {'0': 987, '1': 37}, {'0': 979, '1': 45}, {'0': 987, '1': 37}, {'0': 982, '1': 42}, {'0': 975, '1': 49}, {'0': 962, '1': 62}, {'0': 975, '1': 49}, {'0': 960, '1': 64}, {'0': 945, '1': 79}, {'0': 930, '1': 94}, {'0': 931, '1': 93}, {'0': 920, '1': 104}, {'0': 908, '1': 116}, {'0': 893, '1': 131}, {'0': 920, '1': 104}, {'0': 866, '1': 158}, {'0': 866, '1': 158}, {'0': 855, '1': 169}, {'0': 830, '1': 194}]\n",
      "amplitude_multiplier = 0.9333333333333333\n"
     ]
    }
   ],
   "source": [
    "measure_list = job.result().get_counts()\n",
    "print(measure_list)\n",
    "ones = [x['1'] for x in measure_list]\n",
    "amplitude_multiplier = amplitude_detuning_array[np.argmin(ones)]\n",
    "print(\"amplitude_multiplier = {}\".format(amplitude_multiplier))"
   ]
  },
  {
   "cell_type": "code",
   "execution_count": 114,
   "metadata": {},
   "outputs": [],
   "source": [
    "z_pi_pulse = pulse.Waveform(z_pi_pulse_samples * amplitude_multiplier, name = 'z_pi_pulse')"
   ]
  },
  {
   "cell_type": "markdown",
   "metadata": {},
   "source": [
    "### (check z halfpi gate ) - optional"
   ]
  },
  {
   "cell_type": "code",
   "execution_count": 115,
   "metadata": {},
   "outputs": [],
   "source": [
    "amplitude_detuning_array = np.linspace(0.90, 0.95, 20)\n",
    "schedules = [] \n",
    "for amplitude_detuning in amplitude_detuning_array:\n",
    "    this_schedule = Play(x_halfpi_pulse, drive_chan)\n",
    "    #\n",
    "    this_schedule += Play(pulse.Waveform(z_halfpi_pulse.samples * amplitude_detuning), drive_chan)\n",
    "    #\n",
    "    this_schedule += Play(y_halfpi_pulse, drive_chan)\n",
    "    this_schedule += measure << this_schedule.duration\n",
    "    schedules.append(this_schedule)"
   ]
  },
  {
   "cell_type": "code",
   "execution_count": 116,
   "metadata": {},
   "outputs": [
    {
     "name": "stdout",
     "output_type": "stream",
     "text": [
      "Job Status: job has successfully run\n"
     ]
    }
   ],
   "source": [
    "num_shots_per_point = 1024\n",
    "z_gate_experiment_program = assemble(schedules,\n",
    "                                   backend=backend,\n",
    "                                   meas_level=2,\n",
    "                                   meas_return='avg',\n",
    "                                   shots=num_shots_per_point,\n",
    "                                   schedule_los = [{drive_chan:center_frequency_Hz}]\n",
    "                                                * len(amplitude_detuning_array)\n",
    "                                 )\n",
    "from qiskit.tools.monitor import job_monitor\n",
    "job = backend.run(z_gate_experiment_program)\n",
    "job_monitor(job)"
   ]
  },
  {
   "cell_type": "code",
   "execution_count": 117,
   "metadata": {
    "scrolled": true
   },
   "outputs": [
    {
     "name": "stdout",
     "output_type": "stream",
     "text": [
      "[{'0': 136, '1': 888}, {'0': 123, '1': 901}, {'0': 114, '1': 910}, {'0': 128, '1': 896}, {'0': 119, '1': 905}, {'0': 114, '1': 910}, {'0': 124, '1': 900}, {'0': 135, '1': 889}, {'0': 110, '1': 914}, {'0': 122, '1': 902}, {'0': 103, '1': 921}, {'0': 128, '1': 896}, {'0': 110, '1': 914}, {'0': 87, '1': 937}, {'0': 97, '1': 927}, {'0': 105, '1': 919}, {'0': 98, '1': 926}, {'0': 91, '1': 933}, {'0': 101, '1': 923}, {'0': 120, '1': 904}]\n",
      "[888, 901, 910, 896, 905, 910, 900, 889, 914, 902, 921, 896, 914, 937, 927, 919, 926, 933, 923, 904]\n"
     ]
    },
    {
     "data": {
      "image/png": "[encoded data removed]",
      "text/plain": [
       "<Figure size 432x288 with 1 Axes>"
      ]
     },
     "metadata": {
      "needs_background": "light"
     },
     "output_type": "display_data"
    }
   ],
   "source": [
    "plot_shot_results(job)"
   ]
  },
  {
   "cell_type": "code",
   "execution_count": 118,
   "metadata": {},
   "outputs": [
    {
     "name": "stdout",
     "output_type": "stream",
     "text": [
      "[{'0': 136, '1': 888}, {'0': 123, '1': 901}, {'0': 114, '1': 910}, {'0': 128, '1': 896}, {'0': 119, '1': 905}, {'0': 114, '1': 910}, {'0': 124, '1': 900}, {'0': 135, '1': 889}, {'0': 110, '1': 914}, {'0': 122, '1': 902}, {'0': 103, '1': 921}, {'0': 128, '1': 896}, {'0': 110, '1': 914}, {'0': 87, '1': 937}, {'0': 97, '1': 927}, {'0': 105, '1': 919}, {'0': 98, '1': 926}, {'0': 91, '1': 933}, {'0': 101, '1': 923}, {'0': 120, '1': 904}]\n",
      "amplitude_multiplier = 0.9342105263157895\n"
     ]
    }
   ],
   "source": [
    "measure_list = job.result().get_counts()\n",
    "print(measure_list)\n",
    "ones = [x['1'] for x in measure_list]\n",
    "amplitude_multiplier = amplitude_detuning_array[np.argmax(ones)]\n",
    "print(\"amplitude_multiplier = {}\".format(amplitude_multiplier))"
   ]
  },
  {
   "cell_type": "code",
   "execution_count": 120,
   "metadata": {},
   "outputs": [],
   "source": [
    "z_halfpi_pulse = pulse.Waveform(z_halfpi_pulse_samples * amplitude_multiplier, name = 'z_halfpi_pulse')"
   ]
  },
  {
   "cell_type": "markdown",
   "metadata": {},
   "source": [
    "### (check hadamard gate) - optional"
   ]
  },
  {
   "cell_type": "code",
   "execution_count": 126,
   "metadata": {},
   "outputs": [],
   "source": [
    "amplitude_detuning_array = np.linspace(0.8, 1.2, 20)\n",
    "schedules = [] \n",
    "for amplitude_detuning in amplitude_detuning_array:\n",
    "    this_schedule = Play(pulse.Waveform(hadamard_pulse.samples * amplitude_detuning), drive_chan)\n",
    "    this_schedule += Play(y_halfpi_pulse, drive_chan)\n",
    "    this_schedule += measure << this_schedule.duration\n",
    "    schedules.append(this_schedule)"
   ]
  },
  {
   "cell_type": "code",
   "execution_count": 127,
   "metadata": {},
   "outputs": [
    {
     "name": "stdout",
     "output_type": "stream",
     "text": [
      "Job Status: job has successfully run\n"
     ]
    }
   ],
   "source": [
    "num_shots_per_point = 1024\n",
    "z_gate_experiment_program = assemble(schedules,\n",
    "                                   backend=backend,\n",
    "                                   meas_level=2,\n",
    "                                   meas_return='avg',\n",
    "                                   shots=num_shots_per_point,\n",
    "                                   schedule_los = [{drive_chan:center_frequency_Hz}]\n",
    "                                                * len(amplitude_detuning_array)\n",
    "                                 )\n",
    "from qiskit.tools.monitor import job_monitor\n",
    "job = backend.run(z_gate_experiment_program)\n",
    "job_monitor(job)"
   ]
  },
  {
   "cell_type": "code",
   "execution_count": 128,
   "metadata": {},
   "outputs": [
    {
     "name": "stdout",
     "output_type": "stream",
     "text": [
      "[{'0': 70, '1': 954}, {'0': 73, '1': 951}, {'0': 68, '1': 956}, {'0': 65, '1': 959}, {'0': 76, '1': 948}, {'0': 62, '1': 962}, {'0': 51, '1': 973}, {'0': 58, '1': 966}, {'0': 44, '1': 980}, {'0': 46, '1': 978}, {'0': 47, '1': 977}, {'0': 49, '1': 975}, {'0': 54, '1': 970}, {'0': 57, '1': 967}, {'0': 65, '1': 959}, {'0': 55, '1': 969}, {'0': 74, '1': 950}, {'0': 69, '1': 955}, {'0': 71, '1': 953}, {'0': 82, '1': 942}]\n",
      "[954, 951, 956, 959, 948, 962, 973, 966, 980, 978, 977, 975, 970, 967, 959, 969, 950, 955, 953, 942]\n"
     ]
    },
    {
     "data": {
      "image/png": "[encoded data removed]",
      "text/plain": [
       "<Figure size 432x288 with 1 Axes>"
      ]
     },
     "metadata": {
      "needs_background": "light"
     },
     "output_type": "display_data"
    }
   ],
   "source": [
    "plot_shot_results(job)"
   ]
  },
  {
   "cell_type": "code",
   "execution_count": 129,
   "metadata": {},
   "outputs": [
    {
     "name": "stdout",
     "output_type": "stream",
     "text": [
      "[{'0': 70, '1': 954}, {'0': 73, '1': 951}, {'0': 68, '1': 956}, {'0': 65, '1': 959}, {'0': 76, '1': 948}, {'0': 62, '1': 962}, {'0': 51, '1': 973}, {'0': 58, '1': 966}, {'0': 44, '1': 980}, {'0': 46, '1': 978}, {'0': 47, '1': 977}, {'0': 49, '1': 975}, {'0': 54, '1': 970}, {'0': 57, '1': 967}, {'0': 65, '1': 959}, {'0': 55, '1': 969}, {'0': 74, '1': 950}, {'0': 69, '1': 955}, {'0': 71, '1': 953}, {'0': 82, '1': 942}]\n",
      "amplitude_multiplier = 0.968421052631579\n"
     ]
    }
   ],
   "source": [
    "measure_list = job.result().get_counts()\n",
    "print(measure_list)\n",
    "ones = [x['1'] for x in measure_list]\n",
    "amplitude_multiplier = amplitude_detuning_array[np.argmax(ones)]\n",
    "print(\"amplitude_multiplier = {}\".format(amplitude_multiplier))"
   ]
  },
  {
   "cell_type": "code",
   "execution_count": 130,
   "metadata": {},
   "outputs": [],
   "source": [
    "hadamard_pulse =  pulse.Waveform(hadamard_pulse_samples * amplitude_multiplier, name = 'hadamard_pulse')  "
   ]
  },
  {
   "cell_type": "markdown",
   "metadata": {},
   "source": [
    "## Our gaussian clifford gates !"
   ]
  },
  {
   "cell_type": "code",
   "execution_count": 149,
   "metadata": {},
   "outputs": [
    {
     "ename": "SyntaxError",
     "evalue": "invalid syntax (<ipython-input-149-d0a7811dc412>, line 17)",
     "output_type": "error",
     "traceback": [
      "\u001b[1;36m  File \u001b[1;32m\"<ipython-input-149-d0a7811dc412>\"\u001b[1;36m, line \u001b[1;32m17\u001b[0m\n\u001b[1;33m    ysh_pulse =\u001b[0m\n\u001b[1;37m                ^\u001b[0m\n\u001b[1;31mSyntaxError\u001b[0m\u001b[1;31m:\u001b[0m invalid syntax\n"
     ]
    }
   ],
   "source": [
    "x_pulse = pulse.Waveform(x_pi_pulse.samples, name = 'x_pulse')\r\n",
    "y_pulse = pulse.Waveform(y_pi_pulse.samples, name = 'y_pulse')\r\n",
    "z_pulse = pulse.Waveform(z_pi_pulse.samples, name = 'z_pulse')\r\n",
    "s_pulse = pulse.Waveform(z_halfpi_pulse.samples, name = 's_pulse')\r\n",
    "xs_pulse_samples = np.concatenate((minus_x_halfpi_pulse.samples,y_halfpi_pulse.samples, minus_x_halfpi_pulse.samples))\r\n",
    "xs_pulse = pulse.Waveform(xs_pulse_samples, name = 'xs_pulse')\r\n",
    "ys_pulse_samples = np.concatenate((minus_y_halfpi_pulse.samples,minus_x_halfpi_pulse.samples, minus_y_halfpi_pulse.samples))\r\n",
    "ys_pulse = pulse.Waveform(ys_pulse_samples, name = 'ys_pulse')\r\n",
    "zs_pulse_samples = np.concatenate((y_halfpi_pulse.samples, minus_x_halfpi_pulse.samples, minus_y_halfpi_pulse.samples))\r\n",
    "zs_pulse = pulse.Waveform(zs_pulse_samples, name = 'zs_pulse')\r\n",
    "hadamard_pulse = hadamard_pulse\r\n",
    "xh_pulse = pulse.Waveform(y_halfpi_pulse.samples, name = 'xh_pulse')\r\n",
    "yh_pulse = pulse.Waveform(np.concatenate((x_pi_pulse.samples, y_halfpi_pulse.samples)), name = 'yh_pulse')\r\n",
    "zh_pulse = pulse.Waveform(minus_y_halfpi_pulse.samples, name = 'zh_pulse')\r\n",
    "sh_pulse = pulse.Waveform(np.concatenate((minus_x_halfpi_pulse.samples, minus_y_halfpi_pulse.samples)), name = 'sh_pulse')\r\n",
    "xsh_pulse_samples = np.concatenate((minus_x_halfpi_pulse.samples,minus_y_halfpi_pulse.samples, x_pi_pulse.samples))\r\n",
    "xsh_pulse = pulse.Waveform(xsh_pulse_samples, name = 'xsh_pulse')\r\n",
    "ysh_pulse = pulse.Waveform(np.concatenate((minus_x_halfpi_pulse.samples, y_halfpi_pulse.samples)), name = 'ysh_pulse')\r\n",
    "zsh_pulse_samples = np.concatenate((minus_x_halfpi_pulse.samples, y_halfpi_pulse.samples, x_pi_pulse.samples))\r\n",
    "zsh_pulse = pulse.Waveform(zsh_pulse_samples, name = 'zsh_pulse')\r\n",
    "hs_pulse = pulse.Waveform(np.concatenate((y_halfpi_pulse.samples, minus_x_halfpi_pulse.samples)), name = 'hs_pulse')\r\n",
    "xhs_pulse = pulse.Waveform(np.concatenate((y_halfpi_pulse.samples, x_halfpi_pulse.samples)), name = 'xhs_pulse')\r\n",
    "yhs_pulse_samples = np.concatenate((y_halfpi_pulse.samples, minus_x_halfpi_pulse.samples, y_pi_pulse.samples))\r\n",
    "yhs_pulse = pulse.Waveform(yhs_pulse_samples, name = 'yhs_pulse')\r\n",
    "zhs_pulse_samples =  np.concatenate((y_halfpi_pulse.samples, x_halfpi_pulse.samples, y_pi_pulse.samples))\r\n",
    "zhs_pulse = pulse.Waveform(zhs_pulse_samples, name= 'zhs_pulse')\r\n",
    "shs_pulse = pulse.Waveform(minus_x_halfpi_pulse.samples, name= 'shs_pulse')\r\n",
    "xshs_pulse = pulse.Waveform(x_halfpi_pulse.samples, name= 'xshs_pulse')\r\n",
    "yshs_pulse = pulse.Waveform(np.concatenate((minus_x_halfpi_pulse.samples, y_pi_pulse.samples)), name = 'yshs_pulse')\r\n",
    "zshs_pulse = pulse.Waveform(np.concatenate((x_halfpi_pulse.samples, y_pi_pulse.samples)), name = 'zshs_pulse')\r\n"
   ]
  },
  {
   "cell_type": "code",
   "execution_count": 140,
   "metadata": {},
   "outputs": [],
   "source": [
    "gaussian_clifford_gates = [\n",
    "x_pulse,\\\n",
    "y_pulse,\\\n",
    "z_pulse,\\\n",
    "s_pulse,\\\n",
    ",\\\n",
    "y_pi_pulse,\\\n",
    "]"
   ]
  },
  {
   "cell_type": "code",
   "execution_count": 142,
   "metadata": {},
   "outputs": [
    {
     "data": {
      "text/plain": [
       "'y_pi_pulse'"
      ]
     },
     "execution_count": 142,
     "metadata": {},
     "output_type": "execute_result"
    }
   ],
   "source": [
    "gaussian_clifford_gates[1].name"
   ]
  },
  {
   "cell_type": "code",
   "execution_count": null,
   "metadata": {},
   "outputs": [],
   "source": []
  }
 ],
 "metadata": {
  "interpreter": {
   "hash": "5b6d3567b0442899bdb0c26074cb37fabb2d0daab555968f6c6eebe30d360bb2"
  },
  "kernelspec": {
   "display_name": "Python 3.8.5 64-bit ('qiskit_env': conda)",
   "name": "python3"
  },
  "language_info": {
   "name": "python",
   "version": ""
  }
 },
 "nbformat": 4,
 "nbformat_minor": 4
}