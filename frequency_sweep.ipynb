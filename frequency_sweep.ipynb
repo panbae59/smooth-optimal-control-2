{
 "cells": [
  {
   "cell_type": "markdown",
   "metadata": {},
   "source": [
    "# Frequency sweep of various types of control gates"
   ]
  },
  {
   "cell_type": "markdown",
   "metadata": {},
   "source": [
    "We used three types of control gates. gaussian, SOC, qiskit pulses"
   ]
  },
  {
   "cell_type": "code",
   "execution_count": 13,
   "metadata": {},
   "outputs": [
    {
     "name": "stderr",
     "output_type": "stream",
     "text": [
      "ibmqfactory.load_account:WARNING:2021-06-30 17:42:44,159: Credentials are already in use. The existing account in the session will be replaced.\n"
     ]
    },
    {
     "name": "stdout",
     "output_type": "stream",
     "text": [
      "Sampling time: 0.2222222222222222 ns\n",
      "Qubit 0 has an estimated frequency of 4.971657042036229 GHz.\n"
     ]
    }
   ],
   "source": [
    "from optimal_control.gaussian_control import GaussianControl\r\n",
    "from optimal_control.paper_smooth_optimal_control import PaperSmoothOptimalControl\r\n",
    "from optimal_control.qiskit_control import QiskitControl\r\n",
    "from util.Q_setup import QSetUp\r\n",
    "from util.sweep import Sweep\r\n",
    "\r\n",
    "Q_setup = QSetUp()\r\n",
    "sweep = Sweep(Q_setup)\r\n",
    "\r\n",
    "qiskit_control = QiskitControl(Q_setup)\r\n",
    "paper_smooth_optimal_control = PaperSmoothOptimalControl(Q_setup)\r\n",
    "gaussian_control = GaussianControl(Q_setup)"
   ]
  },
  {
   "cell_type": "code",
   "execution_count": 15,
   "metadata": {},
   "outputs": [
    {
     "name": "stdout",
     "output_type": "stream",
     "text": [
      "The sweep will go from 4.969657042036229 GHz to 4.973657042036229 GHz         in steps of 0.1 MHz.\n",
      "Job Status: job has successfully run\n"
     ]
    },
    {
     "data": {
      "image/png": "[encoded data removed]",
      "text/plain": [
       "<Figure size 432x288 with 1 Axes>"
      ]
     },
     "metadata": {
      "needs_background": "light"
     },
     "output_type": "display_data"
    }
   ],
   "source": [
    "sweep.frequency_sweep([paper_smooth_optimal_control.gate['X/2'], paper_smooth_optimal_control.gate['X/2']])"
   ]
  },
  {
   "cell_type": "code",
   "execution_count": 5,
   "metadata": {},
   "outputs": [
    {
     "name": "stdout",
     "output_type": "stream",
     "text": [
      "The sweep will go from 4.969657042036229 GHz to 4.973657042036229 GHz         in steps of 0.1 MHz.\n",
      "Job Status: job has successfully run\n"
     ]
    },
    {
     "data": {
      "image/png": "[encoded data removed]",
      "text/plain": [
       "<Figure size 432x288 with 1 Axes>"
      ]
     },
     "metadata": {
      "needs_background": "light"
     },
     "output_type": "display_data"
    }
   ],
   "source": [
    "sweep.frequency_sweep([gaussian_control.gate['X']])"
   ]
  },
  {
   "cell_type": "code",
   "execution_count": 14,
   "metadata": {},
   "outputs": [
    {
     "name": "stdout",
     "output_type": "stream",
     "text": [
      "The sweep will go from 4.969657042036229 GHz to 4.973657042036229 GHz         in steps of 0.1 MHz.\n",
      "Job Status: job has successfully run\n"
     ]
    },
    {
     "data": {
      "image/png": "[encoded data removed]",
      "text/plain": [
       "<Figure size 432x288 with 1 Axes>"
      ]
     },
     "metadata": {
      "needs_background": "light"
     },
     "output_type": "display_data"
    }
   ],
   "source": [
    "sweep.frequency_sweep([paper_smooth_optimal_control.gate['X']])"
   ]
  },
  {
   "cell_type": "code",
   "execution_count": 10,
   "metadata": {},
   "outputs": [
    {
     "name": "stdout",
     "output_type": "stream",
     "text": [
      "The sweep will go from 4.969657042036229 GHz to 4.973657042036229 GHz         in steps of 0.1 MHz.\n",
      "Job Status: job has successfully run\n"
     ]
    },
    {
     "data": {
      "image/png": "[encoded data removed]",
      "text/plain": [
       "<Figure size 432x288 with 1 Axes>"
      ]
     },
     "metadata": {
      "needs_background": "light"
     },
     "output_type": "display_data"
    }
   ],
   "source": [
    "from qiskit.pulse import ShiftPhase\r\n",
    "sweep.frequency_sweep([ShiftPhase(0.3, Q_setup.drive_chan) , qiskit_control.gate['X'], ShiftPhase(-0.3, Q_setup.drive_chan)])"
   ]
  },
  {
   "cell_type": "code",
   "execution_count": null,
   "metadata": {},
   "outputs": [],
   "source": []
  }
 ],
 "metadata": {
  "interpreter": {
   "hash": "b9bf3c54b04a7422c7589d52b4395df6d0aad8263775401d2c09585022a1e104"
  },
  "kernelspec": {
   "display_name": "Python 3.8.5 64-bit ('py38_64': conda)",
   "name": "python3"
  },
  "language_info": {
   "codemirror_mode": {
    "name": "ipython",
    "version": 3
   },
   "file_extension": ".py",
   "mimetype": "text/x-python",
   "name": "python",
   "nbconvert_exporter": "python",
   "pygments_lexer": "ipython3",
   "version": "3.7.0"
  },
  "orig_nbformat": 4
 },
 "nbformat": 4,
 "nbformat_minor": 2
}