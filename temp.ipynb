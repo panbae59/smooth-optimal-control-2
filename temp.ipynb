{
 "cells": [
  {
   "cell_type": "code",
   "execution_count": 1,
   "metadata": {},
   "outputs": [],
   "source": [
    "import numpy as np\r\n",
    "import matplotlib.pyplot as plt\r\n",
    "from scipy.optimize import curve_fit\r\n",
    "\r\n",
    "def fit_function(x_values, y_values, function, init_params):\r\n",
    "    fitparams, conv = curve_fit(function, x_values, y_values, init_params)\r\n",
    "    y_fit = function(x_values, *fitparams)\r\n",
    "    \r\n",
    "    return fitparams, y_fit"
   ]
  },
  {
   "cell_type": "code",
   "execution_count": 22,
   "metadata": {},
   "outputs": [],
   "source": [
    "ms = np.loadtxt(\"Randomized_benchmarking_results/m_Qiskit_Gaussian_detuning=0.txt\")\r\n",
    "reference = np.loadtxt(\"Randomized_benchmarking_results/reference_Qiskit_Gaussian_detuning=0.txt\")\r\n",
    "interleaved = np.loadtxt(\"Randomized_benchmarking_results/interleaved_Qiskit_Gaussian_detuning=0.txt\")"
   ]
  },
  {
   "cell_type": "code",
   "execution_count": 14,
   "metadata": {},
   "outputs": [
    {
     "data": {
      "image/png": "[encoded data removed]",
      "text/plain": [
       "<Figure size 432x288 with 1 Axes>"
      ]
     },
     "metadata": {
      "needs_background": "light"
     },
     "output_type": "display_data"
    },
    {
     "name": "stdout",
     "output_type": "stream",
     "text": [
      "reference_fidelity = 0.9997387264461016\n",
      "interleaved_fidelity = 0.9850315380021915\n"
     ]
    }
   ],
   "source": [
    "fit_params1, y_fit1 = fit_function(ms,\r\n",
    "                                 reference, \r\n",
    "                                 lambda m, fidelity, A: (A *(2*fidelity - 1)** m ),\r\n",
    "                                 [0.95, 1])\r\n",
    "\r\n",
    "fit_params2, y_fit2 = fit_function(ms,\r\n",
    "                                 interleaved, \r\n",
    "                                 lambda m, fidelity, A: (A *(2*fidelity - 1)** m ),\r\n",
    "                                 [0.95, 1])\r\n",
    "\r\n",
    "\r\n",
    "\r\n",
    "plt.scatter(ms, reference, color='black')\r\n",
    "plt.scatter(ms, interleaved, color='blue')\r\n",
    "\r\n",
    "plt.plot(ms, y_fit1, color='red')\r\n",
    "plt.plot(ms, y_fit2, color='red')\r\n",
    "\r\n",
    "reference_fidelity = fit_params1[0] \r\n",
    "interleaved_fidelity = fit_params2[0] * fit_params1[0]\r\n",
    "plt.xlabel(\"# of clifford gates\", fontsize=15)\r\n",
    "plt.ylabel(\"fidelity\", fontsize=15)\r\n",
    "plt.show()\r\n",
    "print('reference_fidelity =', reference_fidelity)\r\n",
    "print('interleaved_fidelity =', interleaved_fidelity)"
   ]
  },
  {
   "cell_type": "code",
   "execution_count": 16,
   "metadata": {},
   "outputs": [],
   "source": [
    "def save_results(ms, reference_fidelity, interleaved_fidelity, file_name):\r\n",
    "    np.savetxt('m_'+ file_name + \".txt\", ms)\r\n",
    "    np.savetxt('reference_'+ file_name + \".txt\", reference_fidelity)\r\n",
    "    np.savetxt('interleaved_'+ file_name + \".txt\", interleaved_fidelity)\r\n"
   ]
  },
  {
   "cell_type": "code",
   "execution_count": 18,
   "metadata": {},
   "outputs": [],
   "source": [
    "def load_results(file_name):\r\n",
    "    ms = np.loadtxt('m_'+ file_name + \".txt\")\r\n",
    "    reference_fidelity = np.loadtxt('reference_'+ file_name + \".txt\")\r\n",
    "    interleaved_fidelity = np.loadtxt('interleaved_'+ file_name + \".txt\")\r\n",
    "    return ms, reference_fidelity, interleaved_fidelity"
   ]
  },
  {
   "cell_type": "code",
   "execution_count": 20,
   "metadata": {},
   "outputs": [],
   "source": [
    "def fit_results(ms, reference, interleaved):\r\n",
    "    fit_params1, y_fit1 = fit_function(ms,\r\n",
    "                                 reference, \r\n",
    "                                 lambda m, fidelity, A: (A *(2*fidelity - 1)** m ),\r\n",
    "                                 [0.95, 1])\r\n",
    "\r\n",
    "    fit_params2, y_fit2 = fit_function(ms,\r\n",
    "                                 interleaved, \r\n",
    "                                 lambda m, fidelity, A: (A *(2*fidelity - 1)** m ),\r\n",
    "                                 [0.95, 1])\r\n",
    "\r\n",
    "\r\n",
    "\r\n",
    "    plt.scatter(ms, reference, color='black')\r\n",
    "    plt.scatter(ms, interleaved, color='blue')\r\n",
    "\r\n",
    "    plt.plot(ms, y_fit1, color='red')\r\n",
    "    plt.plot(ms, y_fit2, color='red')\r\n",
    "\r\n",
    "    reference_fidelity = fit_params1[0] \r\n",
    "    interleaved_fidelity = fit_params2[0] * fit_params1[0]\r\n",
    "    plt.xlabel(\"# of clifford gates\", fontsize=15)\r\n",
    "    plt.ylabel(\"fidelity\", fontsize=15)\r\n",
    "    plt.show()\r\n",
    "    print('reference_fidelity =', reference_fidelity)\r\n",
    "    print('interleaved_fidelity =', interleaved_fidelity)\r\n",
    "    return reference_fidelity, interleaved_fidelity"
   ]
  },
  {
   "cell_type": "code",
   "execution_count": 23,
   "metadata": {},
   "outputs": [
    {
     "data": {
      "image/png": "[encoded data removed]",
      "text/plain": [
       "<Figure size 432x288 with 1 Axes>"
      ]
     },
     "metadata": {
      "needs_background": "light"
     },
     "output_type": "display_data"
    },
    {
     "name": "stdout",
     "output_type": "stream",
     "text": [
      "reference_fidelity = 0.9997387264461016\n",
      "interleaved_fidelity = 0.9850315380021915\n"
     ]
    },
    {
     "data": {
      "text/plain": [
       "(0.9997387264461016, 0.9850315380021915)"
      ]
     },
     "execution_count": 23,
     "metadata": {},
     "output_type": "execute_result"
    }
   ],
   "source": [
    "fit_results(ms, reference, interleaved)"
   ]
  },
  {
   "cell_type": "code",
   "execution_count": null,
   "metadata": {},
   "outputs": [],
   "source": []
  }
 ],
 "metadata": {
  "interpreter": {
   "hash": "bbaff3bad43e72ef86a08724e2a04c1dc7b916dad0faa2935f126c230f07c1b0"
  },
  "kernelspec": {
   "display_name": "Python 3.8.5 64-bit ('base': conda)",
   "name": "python3"
  },
  "language_info": {
   "codemirror_mode": {
    "name": "ipython",
    "version": 3
   },
   "file_extension": ".py",
   "mimetype": "text/x-python",
   "name": "python",
   "nbconvert_exporter": "python",
   "pygments_lexer": "ipython3",
   "version": "3.8.10"
  },
  "orig_nbformat": 4
 },
 "nbformat": 4,
 "nbformat_minor": 2
}