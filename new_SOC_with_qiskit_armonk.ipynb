{
 "cells": [
  {
   "cell_type": "markdown",
   "metadata": {},
   "source": [
    "## 0. Getting Started <a id=\"importing\"></a>\n",
    "\n",
    "We'll first get our basic dependencies set up and ready to go. Since we want to use real, noisy devices for our calibration experiments in this notebook, we need to load our IBMQ account and set the appropriate backend."
   ]
  },
  {
   "cell_type": "code",
   "execution_count": 4,
   "metadata": {
    "scrolled": true,
    "tags": [
     "uses-hardware"
    ]
   },
   "outputs": [
    {
     "name": "stdout",
     "output_type": "stream",
     "text": [
      "Sampling time: 0.2222222222222222 ns\n"
     ]
    }
   ],
   "source": [
    "from qiskit.tools.jupyter import *\n",
    "from qiskit.tools.monitor import job_monitor\n",
    "from qiskit.visualization.pulse_v2 import draw\n",
    "from qiskit import IBMQ\n",
    "\n",
    "IBMQ.load_account()\n",
    "provider = IBMQ.get_provider(hub='ibm-q', group='open', project='main')\n",
    "backend = provider.get_backend('ibmq_armonk')\n",
    "backend_config = backend.configuration()\n",
    "assert backend_config.open_pulse, \"Backend doesn't support Pulse\"\n",
    "\n",
    "dt = backend_config.dt\n",
    "print(f\"Sampling time: {dt*1e9} ns\")    # The configuration returns dt in seconds, so multiply by\n",
    "                                        # 1e9 to get nanoseconds\n",
    "    \n",
    "backend_defaults = backend.defaults()"
   ]
  },
  {
   "cell_type": "markdown",
   "metadata": {},
   "source": [
    "Set constants and qiskit measurement equipments"
   ]
  },
  {
   "cell_type": "code",
   "execution_count": 5,
   "metadata": {},
   "outputs": [],
   "source": [
    "import json\n",
    "\n",
    "with open(\"saved_data.json\") as f:\n",
    "    json_data = json.load(f)\n",
    "\n",
    "def save_value(key : str, value):\n",
    "    json_data[key] = value\n",
    "    with open(\"saved_data.json\", 'w', encoding = 'UTF-8') as f:\n",
    "        json.dump(json_data, f, indent = 8)\n",
    "        \n",
    "def load_value(key : str):\n",
    "    return json_data[key]"
   ]
  },
  {
   "cell_type": "code",
   "execution_count": 6,
   "metadata": {
    "tags": [
     "uses-hardware"
    ]
   },
   "outputs": [
    {
     "name": "stdout",
     "output_type": "stream",
     "text": [
      "Qubit 0 has an estimated frequency of 4.971658079623171 GHz.\n"
     ]
    }
   ],
   "source": [
    "import numpy as np\n",
    "\n",
    "# unit conversion factors -> all backend properties returned in SI (Hz, sec, etc)\n",
    "GHz = 1.0e9 # Gigahertz\n",
    "MHz = 1.0e6 # Megahertz\n",
    "us = 1.0e-6 # Microseconds\n",
    "ns = 1.0e-9 # Nanoseconds\n",
    "\n",
    "# We will find the qubit frequency for the following qubit.\n",
    "qubit = 0\n",
    "\n",
    "# The sweep will be centered around the estimated qubit frequency.\n",
    "center_frequency_Hz = backend_defaults.qubit_freq_est[qubit]        # The default frequency is given in Hz\n",
    "                                                                    # warning: this will change in a future release\n",
    "print(f\"Qubit {qubit} has an estimated frequency of {center_frequency_Hz / GHz} GHz.\")"
   ]
  },
  {
   "cell_type": "code",
   "execution_count": 7,
   "metadata": {
    "tags": [
     "uses-hardware"
    ]
   },
   "outputs": [],
   "source": [
    "# Find out which group of qubits need to be acquired with this qubit\n",
    "meas_map_idx = None\n",
    "for i, measure_group in enumerate(backend_config.meas_map):\n",
    "    if qubit in measure_group:\n",
    "        meas_map_idx = i\n",
    "        break\n",
    "assert meas_map_idx is not None, f\"Couldn't find qubit {qubit} in the meas_map!\""
   ]
  },
  {
   "cell_type": "code",
   "execution_count": 8,
   "metadata": {
    "tags": [
     "uses-hardware"
    ]
   },
   "outputs": [],
   "source": [
    "from qiskit import pulse\n",
    "from qiskit.pulse import Play\n",
    "# This Pulse module helps us build sampled pulses for common pulse shapes\n",
    "from qiskit.pulse import library as pulse_lib\n",
    "from qiskit import assemble\n",
    "from qiskit.tools.monitor import job_monitor\n",
    "### Collect the necessary channels\n",
    "drive_chan = pulse.DriveChannel(qubit)\n",
    "meas_chan = pulse.MeasureChannel(qubit)\n",
    "acq_chan = pulse.AcquireChannel(qubit)"
   ]
  },
  {
   "cell_type": "code",
   "execution_count": 69,
   "metadata": {},
   "outputs": [],
   "source": [
    "def plot_shot_results(job):\n",
    "    from matplotlib import pyplot as plt\n",
    "    y_pulse_results = job.result(timeout=120)\n",
    "    measure_list = y_pulse_results.get_counts()\n",
    "    zero_list = []\n",
    "    sum_list = []\n",
    "    for prob in measure_list:\n",
    "        s = 0.\n",
    "        for x in prob:\n",
    "            s+=prob[x]\n",
    "        sum_list.append(s)\n",
    "        try:\n",
    "            zero_list.append(prob['0'])\n",
    "        except:\n",
    "            zero_list.append(0)\n",
    "    plt.plot(sum_list)\n",
    "    plt.plot(zero_list, '.')\n",
    "    plt.show()"
   ]
  },
  {
   "cell_type": "code",
   "execution_count": 10,
   "metadata": {
    "tags": [
     "uses-hardware"
    ]
   },
   "outputs": [],
   "source": [
    "# samples need to be multiples of 16\n",
    "def get_closest_multiple_of_16(num):\n",
    "    return int(num + 8 ) - (int(num + 8 ) % 16)"
   ]
  },
  {
   "cell_type": "code",
   "execution_count": 11,
   "metadata": {},
   "outputs": [],
   "source": [
    "inst_sched_map = backend_defaults.instruction_schedule_map\n",
    "measure = inst_sched_map.get('measure', qubits=backend_config.meas_map[meas_map_idx])"
   ]
  },
  {
   "cell_type": "code",
   "execution_count": 12,
   "metadata": {
    "tags": [
     "uses-hardware"
    ]
   },
   "outputs": [],
   "source": [
    "from scipy.optimize import curve_fit\n",
    "\n",
    "def fit_function(x_values, y_values, function, init_params):\n",
    "    fitparams, conv = curve_fit(function, x_values, y_values, init_params)\n",
    "    y_fit = function(x_values, *fitparams)\n",
    "    \n",
    "    return fitparams, y_fit"
   ]
  },
  {
   "cell_type": "markdown",
   "metadata": {},
   "source": [
    "### Optimal Control class\n",
    "\n",
    "Class of Optimal controls. (gaussian, SOC, etc...) "
   ]
  },
  {
   "cell_type": "code",
   "execution_count": 13,
   "metadata": {},
   "outputs": [],
   "source": [
    "class OptimalControl:\n",
    "    def __init__(self,):\n",
    "        # ex) gate['X'] = X gate\n",
    "        # gate.keys = ['X', 'X/2', 'Y', 'Y/2'] \n",
    "        # X/2 maens half pi pulse\n",
    "        self.gate = {}\n",
    "    \n",
    "    def make_pulse_list(self, pulse_code_list):\n",
    "        pulse_list = []\n",
    "        for code in pulse_code_list:\n",
    "            pulse_list.append(self.gate[code])\n",
    "        return pulse_list\n",
    "smooth_optimal_control = OptimalControl()\n",
    "gaussian_optimal_control = OptimalControl()"
   ]
  },
  {
   "cell_type": "markdown",
   "metadata": {},
   "source": [
    "## 1. Amplitude Sweeping / define Gaussian X, Y, Z, Hadamard gates"
   ]
  },
  {
   "cell_type": "code",
   "execution_count": 14,
   "metadata": {
    "tags": [
     "uses-hardware"
    ]
   },
   "outputs": [],
   "source": [
    "def amplitude_sweep(drive_amps:np.array, Signal_list):\n",
    "    schedules = []\n",
    "\n",
    "    for drive_amp in drive_amps:\n",
    "        '''rabi_pulse = pulse_lib.Constant(duration=drive_samples,\n",
    "                                  amp=drive_amp,\n",
    "                                  name='const_pi_pulse')'''\n",
    "        this_schedule = pulse.Schedule(name=f\"Rabi drive amplitude = {drive_amp}\")\n",
    "        for Signal in Signal_list:\n",
    "            this_schedule += Play(pulse_lib.Waveform(Signal*drive_amp), drive_chan)\n",
    "        # Reuse the measure instruction from the frequency sweep experiment\n",
    "        this_schedule += measure << this_schedule.duration\n",
    "        schedules.append(this_schedule)\n",
    "        \n",
    "    draw(schedules[-1], backend = backend) # is not working! (could be a problem of jupyter)\n",
    "    \n",
    "    from qiskit import assemble\n",
    "    # Assemble the schedules into a Qobj\n",
    "    num_shots_per_point = 1024\n",
    "\n",
    "    experiment_program = assemble(schedules,\n",
    "                                   backend=backend,\n",
    "                                   meas_level=2,\n",
    "                                   meas_return='avg',\n",
    "                                   shots=num_shots_per_point,\n",
    "                                   schedule_los=[{drive_chan: center_frequency_Hz}]\n",
    "                                                * len(drive_amps))\n",
    "    from qiskit.tools.monitor import job_monitor\n",
    "    job = backend.run(experiment_program)\n",
    "    job_monitor(job)\n",
    "    results = job.result(timeout=120)\n",
    "    plot_shot_results(job)\n",
    "    return results.get_counts()"
   ]
  },
  {
   "cell_type": "code",
   "execution_count": 15,
   "metadata": {
    "tags": [
     "uses-hardware"
    ]
   },
   "outputs": [],
   "source": [
    "# This experiment uses these values from the previous experiment:\n",
    "    # `qubit`,\n",
    "    # `measure`, and\n",
    "    # `rough_qubit_frequency`.\n",
    "\n",
    "# Rabi experiment parameters\n",
    "num_rabi_points = 50\n",
    "\n",
    "# Drive amplitude values to iterate over: 50 amplitudes evenly spaced from 0 to 0.75\n",
    "drive_amp_min = 0\n",
    "drive_amp_max = 0.35\n",
    "drive_amps = np.linspace(drive_amp_min, drive_amp_max, num_rabi_points)\n",
    "# Build the Rabi experiments:\n",
    "#    A drive pulse at the qubit frequency, followed by a measurement,\n",
    "#    where we vary the drive amplitude each time.\n",
    "# Drive pulse parameters (us = microseconds)\n",
    "drive_sigma_us = 0.075                     # This determines the actual width of the gaussian\n",
    "drive_samples_us = drive_sigma_us*8        # This is a truncating parameter, because gaussians don't have \n",
    "                                           # a natural finite length\n",
    "\n",
    "drive_sigma = get_closest_multiple_of_16(drive_sigma_us * us /dt)       # The width of the gaussian in units of dt\n",
    "drive_samples = get_closest_multiple_of_16(drive_samples_us * us /dt)   # The truncating \n",
    "\n",
    "\n",
    "rabi_signal = np.array(pulse_lib.gaussian(duration=drive_samples, amp=1, \n",
    "                                sigma=drive_sigma).samples)"
   ]
  },
  {
   "cell_type": "markdown",
   "metadata": {},
   "source": [
    "### 1.1 Gaussian X gate"
   ]
  },
  {
   "cell_type": "code",
   "execution_count": 72,
   "metadata": {
    "tags": [
     "uses-hardware"
    ]
   },
   "outputs": [
    {
     "name": "stdout",
     "output_type": "stream",
     "text": [
      "Job Status: job has successfully run\n"
     ]
    },
    {
     "data": {
      "image/png": "[encoded data removed]",
      "text/plain": [
       "<Figure size 432x288 with 1 Axes>"
      ]
     },
     "metadata": {
      "needs_background": "light"
     },
     "output_type": "display_data"
    }
   ],
   "source": [
    "rabi_results = amplitude_sweep(drive_amps, [rabi_signal])"
   ]
  },
  {
   "cell_type": "markdown",
   "metadata": {},
   "source": [
    "Now that we have our results, we will extract them and fit them to a sinusoidal curve. For the range of drive amplitudes we selected, we expect that we will rotate the qubit several times completely around the Bloch sphere, starting from $|0\\rangle$. The amplitude of this sinusoid tells us the fraction of the shots at that Rabi drive amplitude which yielded the $|1\\rangle$ state.  We want to find the drive amplitude needed for the signal to oscillate from a maximum (all $|0\\rangle$ state) to a minimum (all $|1\\rangle$ state) -- this gives the calibrated amplitude that enacts a $\\pi$ pulse."
   ]
  },
  {
   "cell_type": "code",
   "execution_count": 54,
   "metadata": {
    "tags": [
     "uses-hardware"
    ]
   },
   "outputs": [],
   "source": [
    "# center data around 0\n",
    "def baseline_remove(values):\n",
    "    return np.array(values) - np.mean(values)"
   ]
  },
  {
   "cell_type": "code",
   "execution_count": 69,
   "metadata": {
    "tags": [
     "uses-hardware"
    ]
   },
   "outputs": [],
   "source": [
    "import matplotlib.pyplot as plt\n",
    "rabi_values = []\n",
    "#print(rabi_results)\n",
    "for i in range(num_rabi_points):\n",
    "    # Get the results for `qubit` from the ith experiment\n",
    "    rabi_values.append(rabi_results[i]['0'])\n",
    "\n",
    "rabi_values = np.real(baseline_remove(rabi_values))"
   ]
  },
  {
   "cell_type": "code",
   "execution_count": 70,
   "metadata": {
    "tags": [
     "uses-hardware"
    ]
   },
   "outputs": [
    {
     "data": {
      "image/png": "[encoded data removed]",
      "text/plain": [
       "<Figure size 432x288 with 1 Axes>"
      ]
     },
     "metadata": {
      "needs_background": "light"
     },
     "output_type": "display_data"
    }
   ],
   "source": [
    "fit_params, y_fit = fit_function(drive_amps,\n",
    "                                 rabi_values, \n",
    "                                 lambda x, A, B, drive_period, phi: (A*np.cos(2*np.pi*x/drive_period - phi) + B),\n",
    "                                 [400, 10, 0.3, 0])\n",
    "\n",
    "plt.scatter(drive_amps, rabi_values, color='black')\n",
    "plt.plot(drive_amps, y_fit, color='red')\n",
    "\n",
    "drive_period = fit_params[2] # get period of rabi oscillation\n",
    "plt.xlabel(\"Drive amp [a.u.]\", fontsize=15)\n",
    "plt.ylabel(\"Measured signal [a.u.]\", fontsize=15)\n",
    "plt.show()"
   ]
  },
  {
   "cell_type": "code",
   "execution_count": 71,
   "metadata": {
    "scrolled": true,
    "tags": [
     "uses-hardware"
    ]
   },
   "outputs": [
    {
     "name": "stdout",
     "output_type": "stream",
     "text": [
      "Pi Amplitude = 0.13385855167547026\n"
     ]
    }
   ],
   "source": [
    "pi_amp = abs(drive_period / 2)\n",
    "save_value(\"pi_amp\" ,pi_amp)\n",
    "print(f\"Pi Amplitude = {pi_amp}\")"
   ]
  },
  {
   "cell_type": "markdown",
   "metadata": {},
   "source": [
    "### Define Gates (X, Y, half pulses)\n",
    "Let's define our pulse, with the amplitude we just found, so we can use it in later experiments."
   ]
  },
  {
   "cell_type": "code",
   "execution_count": 16,
   "metadata": {
    "tags": [
     "uses-hardware"
    ]
   },
   "outputs": [],
   "source": [
    "pi_amp = load_value(\"pi_amp\")\n",
    "pi_pulse = pulse_lib.gaussian(duration=drive_samples,\n",
    "                              amp=pi_amp, \n",
    "                              sigma=drive_sigma,\n",
    "                              name='pi_pulse')"
   ]
  },
  {
   "cell_type": "code",
   "execution_count": 17,
   "metadata": {},
   "outputs": [],
   "source": [
    "convert_factor = pi_amp*0.626617/(4/np.pi)/(4*1e6)\n",
    "save_value('convert_factor', convert_factor)"
   ]
  },
  {
   "cell_type": "markdown",
   "metadata": {},
   "source": [
    "Get other gates from gaussian X gate"
   ]
  },
  {
   "cell_type": "code",
   "execution_count": 18,
   "metadata": {},
   "outputs": [],
   "source": [
    "halfpi_pulse = pulse_lib.gaussian(duration=drive_samples,\n",
    "                              amp=pi_amp/2, \n",
    "                              sigma=drive_sigma,\n",
    "                              name='halfpi_pulse')\n",
    "\n",
    "y_pi_pulse = pulse_lib.gaussian(duration=drive_samples,\n",
    "                              amp=pi_amp *1j, \n",
    "                              sigma=drive_sigma,\n",
    "                              name='y_pi_pulse')\n",
    "\n",
    "y_halfpi_pulse = pulse_lib.gaussian(duration=drive_samples,\n",
    "                              amp=pi_amp/2*1j, \n",
    "                              sigma=drive_sigma,\n",
    "                              name='y_halfpi_pulse')"
   ]
  },
  {
   "cell_type": "code",
   "execution_count": 157,
   "metadata": {},
   "outputs": [],
   "source": [
    "gaussian_optimal_control.gate['X']   = pi_pulse\n",
    "gaussian_optimal_control.gate['X/2'] = halfpi_pulse\n",
    "gaussian_optimal_control.gate['-X/2'] = pulse_lib.Waveform(-halfpi_pulse.samples)\n",
    "gaussian_optimal_control.gate['Y']   = y_pi_pulse\n",
    "gaussian_optimal_control.gate['Y/2'] = y_halfpi_pulse\n",
    "gaussian_optimal_control.gate['-Y/2'] = pulse_lib.Waveform(-y_halfpi_pulse.samples)"
   ]
  },
  {
   "cell_type": "markdown",
   "metadata": {},
   "source": [
    "# 2. Compare freq detuning of Gaussian and SOC pulses"
   ]
  },
  {
   "cell_type": "markdown",
   "metadata": {},
   "source": [
    "### 2.1 Gaussian pi pulse\n",
    "# Should be moved below"
   ]
  },
  {
   "cell_type": "code",
   "execution_count": 20,
   "metadata": {},
   "outputs": [],
   "source": [
    "def frequency_sweep(pulse_list : list):\n",
    "    frequency_span_Hz = 4 * MHz\n",
    "    frequency_step_Hz = 0.1 * MHz\n",
    "\n",
    "    # We will sweep 20 MHz above and 20 MHz below the estimated frequency\n",
    "    frequency_min = center_frequency_Hz - frequency_span_Hz / 2\n",
    "    frequency_max = center_frequency_Hz + frequency_span_Hz / 2\n",
    "    # Construct an np array of the frequencies for our experiment\n",
    "    frequencies_GHz = np.arange(frequency_min / GHz, \n",
    "                                frequency_max / GHz, \n",
    "                                frequency_step_Hz / GHz)\n",
    "\n",
    "    print(f\"The sweep will go from {frequency_min / GHz} GHz to {frequency_max / GHz} GHz \\\n",
    "    in steps of {frequency_step_Hz / MHz} MHz.\")\n",
    "    \n",
    "    \n",
    "    # Create the base schedule\n",
    "    # Start with drive pulse acting on the drive channel\n",
    "    schedule = pulse.Schedule(name='Frequency sweep')\n",
    "    for p in pulse_list:\n",
    "        schedule += Play(p, drive_chan)\n",
    "    # The left shift `<<` is special syntax meaning to shift the start time of the schedule by some duration\n",
    "    schedule += measure << schedule.duration\n",
    "\n",
    "    # Create the frequency settings for the sweep (MUST BE IN HZ)\n",
    "    frequencies_Hz = frequencies_GHz*GHz\n",
    "    schedule_frequencies = [{drive_chan: freq} for freq in frequencies_Hz]\n",
    "    \n",
    "    from qiskit import assemble\n",
    "    num_shots_per_frequency = 1024\n",
    "    pi_frequency_sweep_program = assemble(schedule,\n",
    "                                       backend=backend, \n",
    "                                       meas_level=2,\n",
    "                                       meas_return='avg',\n",
    "                                       shots=num_shots_per_frequency,\n",
    "                                       schedule_los=schedule_frequencies)\n",
    "    job = backend.run(pi_frequency_sweep_program)\n",
    "    job_monitor(job)\n",
    "    plot_shot_results(job)"
   ]
  },
  {
   "cell_type": "code",
   "execution_count": 55,
   "metadata": {},
   "outputs": [
    {
     "name": "stdout",
     "output_type": "stream",
     "text": [
      "The sweep will go from 4.969654572264956 GHz to 4.973654572264955 GHz     in steps of 0.1 MHz.\n",
      "Job Status: job has successfully run\n",
      "[{'0': 674, '1': 350}, {'0': 623, '1': 401}, {'0': 561, '1': 463}, {'0': 510, '1': 514}, {'0': 499, '1': 525}, {'0': 446, '1': 578}, {'0': 424, '1': 600}, {'0': 372, '1': 652}, {'0': 301, '1': 723}, {'0': 256, '1': 768}, {'0': 251, '1': 773}, {'0': 202, '1': 822}, {'0': 151, '1': 873}, {'0': 155, '1': 869}, {'0': 117, '1': 907}, {'0': 106, '1': 918}, {'0': 86, '1': 938}, {'0': 69, '1': 955}, {'0': 80, '1': 944}, {'0': 66, '1': 958}, {'0': 47, '1': 977}, {'0': 51, '1': 973}, {'0': 49, '1': 975}, {'0': 74, '1': 950}, {'0': 76, '1': 948}, {'0': 94, '1': 930}, {'0': 108, '1': 916}, {'0': 127, '1': 897}, {'0': 168, '1': 856}, {'0': 196, '1': 828}, {'0': 231, '1': 793}, {'0': 273, '1': 751}, {'0': 278, '1': 746}, {'0': 320, '1': 704}, {'0': 398, '1': 626}, {'0': 442, '1': 582}, {'0': 506, '1': 518}, {'0': 505, '1': 519}, {'0': 540, '1': 484}, {'0': 650, '1': 374}]\n",
      "[350, 401, 463, 514, 525, 578, 600, 652, 723, 768, 773, 822, 873, 869, 907, 918, 938, 955, 944, 958, 977, 973, 975, 950, 948, 930, 916, 897, 856, 828, 793, 751, 746, 704, 626, 582, 518, 519, 484, 374]\n"
     ]
    },
    {
     "data": {
      "image/png": "[encoded data removed]",
      "text/plain": [
       "<Figure size 432x288 with 1 Axes>"
      ]
     },
     "metadata": {
      "needs_background": "light"
     },
     "output_type": "display_data"
    }
   ],
   "source": [
    "frequency_sweep([gaussian_optimal_control.gate['X']])"
   ]
  },
  {
   "cell_type": "code",
   "execution_count": 56,
   "metadata": {},
   "outputs": [
    {
     "name": "stdout",
     "output_type": "stream",
     "text": [
      "The sweep will go from 4.969654572264956 GHz to 4.973654572264955 GHz     in steps of 0.1 MHz.\n",
      "Job Status: job has successfully run\n",
      "[{'0': 735, '1': 289}, {'0': 594, '1': 430}, {'0': 445, '1': 579}, {'0': 305, '1': 719}, {'0': 214, '1': 810}, {'0': 159, '1': 865}, {'0': 204, '1': 820}, {'0': 244, '1': 780}, {'0': 398, '1': 626}, {'0': 576, '1': 448}, {'0': 758, '1': 266}, {'0': 909, '1': 115}, {'0': 986, '1': 38}, {'0': 1010, '1': 14}, {'0': 939, '1': 85}, {'0': 820, '1': 204}, {'0': 590, '1': 434}, {'0': 420, '1': 604}, {'0': 241, '1': 783}, {'0': 104, '1': 920}, {'0': 67, '1': 957}, {'0': 90, '1': 934}, {'0': 193, '1': 831}, {'0': 344, '1': 680}, {'0': 544, '1': 480}, {'0': 727, '1': 297}, {'0': 867, '1': 157}, {'0': 979, '1': 45}, {'0': 1010, '1': 14}, {'0': 960, '1': 64}, {'0': 844, '1': 180}, {'0': 676, '1': 348}, {'0': 527, '1': 497}, {'0': 378, '1': 646}, {'0': 261, '1': 763}, {'0': 199, '1': 825}, {'0': 224, '1': 800}, {'0': 320, '1': 704}, {'0': 380, '1': 644}, {'0': 549, '1': 475}]\n",
      "[289, 430, 579, 719, 810, 865, 820, 780, 626, 448, 266, 115, 38, 14, 85, 204, 434, 604, 783, 920, 957, 934, 831, 680, 480, 297, 157, 45, 14, 64, 180, 348, 497, 646, 763, 825, 800, 704, 644, 475]\n"
     ]
    },
    {
     "data": {
      "image/png": "[encoded data removed]",
      "text/plain": [
       "<Figure size 432x288 with 1 Axes>"
      ]
     },
     "metadata": {
      "needs_background": "light"
     },
     "output_type": "display_data"
    }
   ],
   "source": [
    "frequency_sweep(gaussian_optimal_control.make_pulse_list(['X/2', 'X/2']))"
   ]
  },
  {
   "cell_type": "markdown",
   "metadata": {},
   "source": [
    "### 2.2 SOC pulse X pi"
   ]
  },
  {
   "cell_type": "code",
   "execution_count": 21,
   "metadata": {},
   "outputs": [],
   "source": [
    "convert_factor = load_value(\"convert_factor\")\n",
    "omega = np.pi/(drive_samples_us*1e-6)\n",
    "#delete below code\n",
    "\n",
    "amplitude_pi_X_x = np.loadtxt(\"amplitude_pi_X_x.csv\", delimiter = ',') * convert_factor\n",
    "amplitude_pi_X_y = np.loadtxt(\"amplitude_pi_X_y.csv\", delimiter = ',') * convert_factor\n",
    "Signal = np.zeros(drive_samples, np.complex128)\n",
    "\n",
    "\n",
    "for i in range(len(amplitude_pi_X_x)):\n",
    "    Signal += amplitude_pi_X_x[i] * np.sin(omega * dt * np.arange(drive_samples) * (i+1))\n",
    "    Signal += amplitude_pi_X_y[i] * np.sin(omega * dt * np.arange(drive_samples) * (i+1)) * 1j\n",
    "    \n",
    "amplitude_detuning_array = np.linspace(0.8, 1.2, 50)"
   ]
  },
  {
   "cell_type": "code",
   "execution_count": 30,
   "metadata": {},
   "outputs": [
    {
     "name": "stderr",
     "output_type": "stream",
     "text": [
      "c:\\users\\jhhop\\appdata\\local\\programs\\python\\python37\\lib\\site-packages\\qiskit\\pulse\\schedule.py:1539: DeprecationWarning: Legacy pulse drawer is deprecated. Specified arguments label are deprecated. Please check the API document of new pulse drawer `qiskit.visualization.pulse_drawer_v2`.\n",
      "  DeprecationWarning)\n"
     ]
    },
    {
     "name": "stdout",
     "output_type": "stream",
     "text": [
      "Job Status: job has successfully run\n"
     ]
    },
    {
     "data": {
      "image/png": "[encoded data removed]",
      "text/plain": [
       "<Figure size 432x288 with 1 Axes>"
      ]
     },
     "metadata": {
      "needs_background": "light"
     },
     "output_type": "display_data"
    },
    {
     "name": "stdout",
     "output_type": "stream",
     "text": [
      "amplitude_multiplier = 0.9959183673469387\n"
     ]
    }
   ],
   "source": [
    "measure_list = amplitude_sweep(amplitude_detuning_array, [Signal])\n",
    "\n",
    "ones = [x['1'] for x in measure_list]\n",
    "amplitude_multiplier_SOC_pi = amplitude_detuning_array[np.argmax(ones)]\n",
    "print(\"amplitude_multiplier = {}\".format(amplitude_multiplier_SOC_pi))\n",
    "\n",
    "save_value(\"amplitude_multiplier_SOC_pi\", amplitude_multiplier_SOC_pi)"
   ]
  },
  {
   "cell_type": "code",
   "execution_count": 152,
   "metadata": {},
   "outputs": [],
   "source": [
    "amplitude_multiplier_SOC_pi = load_value(\"amplitude_multiplier_SOC_pi\")\n",
    "pulse_SOC_pi_X = pulse.Waveform(Signal*amplitude_multiplier_SOC_pi)\n",
    "pulse_SOC_pi_Y = pulse.Waveform(Signal*amplitude_multiplier_SOC_pi*1j)\n",
    "\n",
    "smooth_optimal_control.gate['X'] = pulse_SOC_pi_X\n",
    "smooth_optimal_control.gate['Y'] = pulse_SOC_pi_Y"
   ]
  },
  {
   "cell_type": "code",
   "execution_count": 33,
   "metadata": {},
   "outputs": [
    {
     "name": "stdout",
     "output_type": "stream",
     "text": [
      "The sweep will go from 4.969654572264956 GHz to 4.973654572264955 GHz     in steps of 0.1 MHz.\n",
      "Job Status: job has successfully run\n"
     ]
    },
    {
     "data": {
      "image/png": "[encoded data removed]",
      "text/plain": [
       "<Figure size 432x288 with 1 Axes>"
      ]
     },
     "metadata": {
      "needs_background": "light"
     },
     "output_type": "display_data"
    }
   ],
   "source": [
    "frequency_sweep([smooth_optimal_control.gate['X']])"
   ]
  },
  {
   "cell_type": "markdown",
   "metadata": {},
   "source": [
    "### SOC pulse X pi/2"
   ]
  },
  {
   "cell_type": "code",
   "execution_count": 126,
   "metadata": {},
   "outputs": [],
   "source": [
    "convert_factor = load_value('convert_factor')\n",
    "omega = np.pi/(drive_samples_us*1e-6)\n",
    "#delete below code\n",
    "\n",
    "amplitude_pi_over_2_X_x = np.loadtxt(\"amplitude_pi_over_2_X_x.csv\", delimiter = ',') * convert_factor\n",
    "amplitude_pi_over_2_X_y = np.loadtxt(\"amplitude_pi_over_2_X_y.csv\", delimiter = ',') * convert_factor\n",
    "Signal = np.zeros(drive_samples, np.complex128)\n",
    "\n",
    "\n",
    "for i in range(len(amplitude_pi_over_2_X_x)):\n",
    "    Signal += amplitude_pi_over_2_X_x[i] * np.sin(omega * dt * np.arange(drive_samples) * (i+1))\n",
    "    Signal += amplitude_pi_over_2_X_y[i] * np.sin(omega * dt * np.arange(drive_samples) * (i+1)) * 1j\n",
    "\n",
    "amplitude_detuning_array = np.linspace(0.96, 1.04, 50)"
   ]
  },
  {
   "cell_type": "code",
   "execution_count": 127,
   "metadata": {},
   "outputs": [
    {
     "name": "stdout",
     "output_type": "stream",
     "text": [
      "Job Status: job has successfully run\n"
     ]
    },
    {
     "data": {
      "image/png": "[encoded data removed]",
      "text/plain": [
       "<Figure size 432x288 with 1 Axes>"
      ]
     },
     "metadata": {
      "needs_background": "light"
     },
     "output_type": "display_data"
    }
   ],
   "source": [
    "measure_list = amplitude_sweep(amplitude_detuning_array, [Signal, Signal])"
   ]
  },
  {
   "cell_type": "code",
   "execution_count": 128,
   "metadata": {},
   "outputs": [
    {
     "data": {
      "image/png": "[encoded data removed]",
      "text/plain": [
       "<Figure size 432x288 with 1 Axes>"
      ]
     },
     "metadata": {
      "needs_background": "light"
     },
     "output_type": "display_data"
    },
    {
     "name": "stdout",
     "output_type": "stream",
     "text": [
      "amplitude_multiplier = 1.0008974688981602\n"
     ]
    }
   ],
   "source": [
    "fit_params, y_fit = fit_function(amplitude_detuning_array,\n",
    "                                 [x['0'] for x in measure_list], \n",
    "                                 lambda x, A, B, C: (A*(x-B)**2 + C),\n",
    "                                 [100000, 1, 0])\n",
    "\n",
    "from matplotlib import pyplot as plt\n",
    "plt.scatter(amplitude_detuning_array, [x['0'] for x in measure_list])\n",
    "plt.plot(amplitude_detuning_array, y_fit)\n",
    "plt.show()\n",
    "\n",
    "amplitude_multiplier_SOC_pi_over_2 = fit_params[1]\n",
    "print(\"amplitude_multiplier = {}\".format(amplitude_multiplier_SOC_pi_over_2))\n",
    "\n",
    "save_value(\"amplitude_multiplier_SOC_pi_over_2\", amplitude_multiplier_SOC_pi_over_2)"
   ]
  },
  {
   "cell_type": "code",
   "execution_count": 156,
   "metadata": {},
   "outputs": [],
   "source": [
    "amplitude_multiplier_SOC_pi_over_2 = load_value('amplitude_multiplier_SOC_pi_over_2')\n",
    "\n",
    "pulse_SOC_pi_over_2_X = pulse.Waveform(Signal*amplitude_multiplier_SOC_pi_over_2)\n",
    "pulse_SOC_pi_over_2_Y = pulse.Waveform(Signal*amplitude_multiplier_SOC_pi_over_2*1j)\n",
    "\n",
    "smooth_optimal_control.gate['X/2'] = pulse_SOC_pi_over_2_X\n",
    "smooth_optimal_control.gate['-X/2'] = pulse_lib.Waveform(-pulse_SOC_pi_over_2_X.samples)\n",
    "smooth_optimal_control.gate['Y/2'] = pulse_SOC_pi_over_2_Y\n",
    "smooth_optimal_control.gate['-Y/2'] = pulse_lib.Waveform(-pulse_SOC_pi_over_2_Y.samples)"
   ]
  },
  {
   "cell_type": "code",
   "execution_count": 130,
   "metadata": {},
   "outputs": [
    {
     "name": "stdout",
     "output_type": "stream",
     "text": [
      "The sweep will go from 4.969658079623171 GHz to 4.973658079623171 GHz     in steps of 0.1 MHz.\n",
      "Job Status: job has successfully run\n"
     ]
    },
    {
     "data": {
      "image/png": "[encoded data removed]",
      "text/plain": [
       "<Figure size 432x288 with 1 Axes>"
      ]
     },
     "metadata": {
      "needs_background": "light"
     },
     "output_type": "display_data"
    }
   ],
   "source": [
    "frequency_sweep(smooth_optimal_control.make_pulse_list(['X/2','X/2']))"
   ]
  },
  {
   "cell_type": "markdown",
   "metadata": {},
   "source": [
    "## 3. Calculate state fidelity function\n",
    "\n",
    "From now, we can calculate state fidelity using above optimal control gates. State tomography is skipped in this notebook. However it's functions are useful to calculate process tomography."
   ]
  },
  {
   "cell_type": "code",
   "execution_count": 218,
   "metadata": {},
   "outputs": [],
   "source": [
    "def calculate_state_fidelity(x_expect_val, y_expect_val, z_expect_val, target_state_vector):\n",
    "    pauli_x = np.array([[0,1],[1,0]])\n",
    "    pauli_y = np.array([[0,-1j],[1j,0]])\n",
    "    pauli_z = np.array([[1,0],[0,-1]])\n",
    "    density_matrix = 1/2 * (np.identity(2) + x_expect_val * pauli_x + y_expect_val * pauli_y + z_expect_val * pauli_z)\n",
    "    print(density_matrix)\n",
    "    fidelity = np.dot(target_state_vector.conjugate(), density_matrix@(target_state_vector))\n",
    "    print(fidelity)\n",
    "    return fidelity"
   ]
  },
  {
   "cell_type": "code",
   "execution_count": 219,
   "metadata": {},
   "outputs": [],
   "source": [
    "def get_expectation_value_with_detuning(schedule, detuning, num = 1, execute = True):\n",
    "    num_shots_per_point = 1024\n",
    "    new_Freq = center_frequency_Hz + detuning\n",
    "    program = assemble(schedule,backend=backend,meas_level=2,meas_return='avg',shots=num_shots_per_point,schedule_los=[{drive_chan: new_Freq}]*num)\n",
    "\n",
    "    if execute:\n",
    "        job = backend.run(program)\n",
    "        job_monitor(job)\n",
    "    results = job.result(timeout=120)\n",
    "    measure_list = results.get_counts()\n",
    "    print(measure_list)\n",
    "    if num ==1:\n",
    "        expectation_value = (measure_list['0'] * 1 + measure_list['1'] * (-1)) / (measure_list['0'] + measure_list['1'])\n",
    "    else:\n",
    "        expectation_value = (measure_list[-1]['0'] * 1 + measure_list[-1]['1'] * (-1)) / (measure_list[-1]['0'] + measure_list[-1]['1'])\n",
    "    return expectation_value"
   ]
  },
  {
   "cell_type": "markdown",
   "metadata": {},
   "source": [
    "## 4. Process Tomography of the optimal control pulses"
   ]
  },
  {
   "cell_type": "markdown",
   "metadata": {},
   "source": [
    "### 4.1. Util functions"
   ]
  },
  {
   "cell_type": "code",
   "execution_count": 220,
   "metadata": {},
   "outputs": [],
   "source": [
    "from scipy.linalg import solve"
   ]
  },
  {
   "cell_type": "code",
   "execution_count": 221,
   "metadata": {},
   "outputs": [
    {
     "name": "stdout",
     "output_type": "stream",
     "text": [
      "[[ 1. +0.j   0. +0.j   0. +0.j   0. +0.j ]\n",
      " [-0.5+0.5j -0.5+0.5j  1. +0.j   0. -1.j ]\n",
      " [-0.5-0.5j -0.5-0.5j  1. +0.j   0. +1.j ]\n",
      " [ 0. +0.j   1. +0.j   0. +0.j   0. +0.j ]]\n"
     ]
    },
    {
     "data": {
      "text/plain": [
       "(-0.5+0.5j)"
      ]
     },
     "execution_count": 221,
     "metadata": {},
     "output_type": "execute_result"
    }
   ],
   "source": [
    "pauli_x = np.array([[0,1],[1,0]])\n",
    "pauli_y = np.array([[0,-1j],[1j,0]])\n",
    "pauli_z = np.array([[1,0],[0,-1]])\n",
    "basis_matrices = np.array([np.identity(2), pauli_x, -1j*pauli_y,pauli_z])\n",
    "initial_density_matrices = np.array([np.array([[1,0]]).transpose()@np.array([[1,0]]).conjugate(),\\\n",
    "                                    np.array([[0,1]]).transpose()@np.array([[0,1]]).conjugate(),\\\n",
    "                                    1/2*np.array([[1,1]]).transpose()@np.array([[1,1]]).conjugate(),\\\n",
    "                                    1/2*np.array([[1,1j]]).transpose()@np.array([[1,1j]]).conjugate()])\n",
    "\n",
    "inverse_initial_density_matrices = np.linalg.inv(initial_density_matrices.transpose(1,2,0).reshape((4,4),order = 'F')).transpose()\n",
    "'''\n",
    "beta_coefficients = np.zeros((4,4,4,4), dtype = 'complex64')\n",
    "for j in range(4):\n",
    "    beta_coefficients[j] = np.linalg.inv(initial_density_matrices.transpose(1,2,0).reshape(4,4))\\\n",
    "                           @ (np.einsum('mio,jok,nlk->jmnil',basis_matrices, initial_density_matrices, basis_matrices.conjugate()))[j].reshape(4,4,4)\n",
    "beta_coefficients = beta_coefficients.transpose(0,3,1,2)\n",
    "'''\n",
    "print(inverse_initial_density_matrices)\n",
    "inverse_initial_density_matrices[1,0]"
   ]
  },
  {
   "cell_type": "code",
   "execution_count": 222,
   "metadata": {},
   "outputs": [],
   "source": [
    "def density_matrix(x_expect_val, y_expect_val, z_expect_val):\n",
    "    density_matrix = 1/2 * (np.identity(2) + x_expect_val * pauli_x + y_expect_val * pauli_y + z_expect_val * pauli_z)\n",
    "    print(density_matrix)\n",
    "    return density_matrix"
   ]
  },
  {
   "cell_type": "code",
   "execution_count": 223,
   "metadata": {},
   "outputs": [],
   "source": [
    "def calculate_process_matrix(density_matrices):\n",
    "    id2 = np.identity(2)\n",
    "    transformed_matrices = (inverse_initial_density_matrices@density_matrices.reshape(4,4)).transpose().reshape((4,2,2), order = 'F')\n",
    "    '''\n",
    "    transformed_matrices = np.zeros((4,2,2), dtype = 'complex64')\n",
    "    for i in range(4):\n",
    "        for j in range(4):\n",
    "            transformed_matrices[i,:,:] += (inverse_initial_density_matrices[i,j] * density_matrices[j])\n",
    "    \n",
    "    '''\n",
    "    process_matrix = 1/4 * (np.vstack((np.hstack((id2, pauli_x)), np.hstack((pauli_x, -id2))))@\\\n",
    "    np.vstack((np.hstack((transformed_matrices[0], transformed_matrices[1])), np.hstack((transformed_matrices[2], transformed_matrices[3]))))@\\\n",
    "    np.vstack((np.hstack((id2, pauli_x)), np.hstack((pauli_x, -id2)))))\n",
    "    return process_matrix"
   ]
  },
  {
   "cell_type": "code",
   "execution_count": 224,
   "metadata": {},
   "outputs": [],
   "source": [
    "def process_matrix_error(t,*process_matrix):\n",
    "    t1, t2, t3, t4, t5, t6, t7, t8, t9, t10, t11, t12, t13, t14, t15, t16 = t[0], t[1], t[2], t[3], t[4], t[5], t[6], t[7], t[8], t[9], t[10], t[11], t[12], t[13], t[14], t[15]\n",
    "    T = np.array([[t1, 0, 0, 0],[t5 + 1j*t6, t2, 0, 0],[t11 + 1j*t12, t7+ 1j*t8, t3, 0],[t15 + 1j*t16, t13 + 1j*t14, t9 + 1j*t10, t4]], dtype = np.complex64)\n",
    "    new_process_matrix = T.conjugate().transpose()@T\n",
    "    matrix_error = process_matrix - new_process_matrix\n",
    "    return np.sqrt(np.trace(matrix_error@(matrix_error.conjugate().transpose())))"
   ]
  },
  {
   "cell_type": "code",
   "execution_count": 225,
   "metadata": {},
   "outputs": [],
   "source": [
    "from scipy.optimize import dual_annealing\n",
    "def adjust_process_matrix(process_matrix):\n",
    "    lw = [-5] * 16\n",
    "    up = [5] * 16\n",
    "    ret = dual_annealing(process_matrix_error, args = (process_matrix), bounds=list(zip(lw, up)))\n",
    "    t1, t2, t3, t4, t5, t6, t7, t8, t9, t10, t11, t12, t13, t14, t15, t16 = ret.x[0], ret.x[1], ret.x[2], ret.x[3], ret.x[4], ret.x[5], ret.x[6], ret.x[7], ret.x[8], ret.x[9], ret.x[10], ret.x[11], ret.x[12], ret.x[13], ret.x[14], ret.x[15]\n",
    "    T = np.array([[t1, 0, 0, 0],[t5 + 1j*t6, t2, 0, 0],[t11 + 1j*t12, t7+ 1j*t8, t3, 0],[t15 + 1j*t16, t13 + 1j*t14, t9 + 1j*t10, t4]], dtype = np.complex64)\n",
    "    new_process_matrix = (T.conjugate().transpose())@T\n",
    "    return new_process_matrix"
   ]
  },
  {
   "cell_type": "code",
   "execution_count": 226,
   "metadata": {},
   "outputs": [
    {
     "name": "stdout",
     "output_type": "stream",
     "text": [
      "(16, 16)\n"
     ]
    }
   ],
   "source": [
    "def calculate_fidelity(target_matrix, process_matrix):\n",
    "    id2 = np.eye(2)\n",
    "    mat = 1/2 * (np.vstack((np.hstack((id2, pauli_x)), np.hstack((pauli_x, -id2)))))\n",
    "    beta = np.kron(mat, mat)\n",
    "    print(beta.shape)\n",
    "    #Re(Tr (U(tf )†Ud))\n",
    "calculate_fidelity(pauli_x, pauli_x)"
   ]
  },
  {
   "cell_type": "code",
   "execution_count": 227,
   "metadata": {},
   "outputs": [
    {
     "data": {
      "text/plain": [
       "array([[0.+0.j, 0.+0.j, 0.+0.j, 0.+0.j],\n",
       "       [0.+0.j, 0.+0.j, 0.+0.j, 0.+0.j],\n",
       "       [0.+0.j, 0.+0.j, 0.+0.j, 0.+0.j],\n",
       "       [0.+0.j, 0.+0.j, 0.+0.j, 1.+0.j]])"
      ]
     },
     "execution_count": 227,
     "metadata": {},
     "output_type": "execute_result"
    }
   ],
   "source": [
    "d1=np.array(pauli_z@initial_density_matrices[0]@pauli_z)\n",
    "d2=np.array(pauli_z@initial_density_matrices[1]@pauli_z)\n",
    "d3=np.array(pauli_z@initial_density_matrices[2]@pauli_z)\n",
    "d4=np.array(pauli_z@initial_density_matrices[3]@pauli_z)\n",
    "process_matrix = calculate_process_matrix(np.array([d1,d2,d3,d4]))\n",
    "process_matrix"
   ]
  },
  {
   "cell_type": "markdown",
   "metadata": {},
   "source": [
    "### 4.2 Tomography functions"
   ]
  },
  {
   "cell_type": "code",
   "execution_count": 235,
   "metadata": {},
   "outputs": [],
   "source": [
    "def x_expect_value(schedule, oc_gate, detuninig):\n",
    "    schedule += Play(oc_gate['-Y/2'], drive_chan)#y_halfpi_pulse, drive_chan)\n",
    "    schedule += measure << schedule.duration\n",
    "    return get_expectation_value_with_detuning(schedule, detuninig)\n",
    "\n",
    "def y_expect_value(schedule, oc_gate, detuninig):\n",
    "    schedule += Play(oc_gate['X/2'], drive_chan)#y_halfpi_pulse, drive_chan)\n",
    "    schedule += measure << schedule.duration\n",
    "    return -get_expectation_value_with_detuning(schedule, detuninig)\n",
    "\n",
    "def z_expect_value(schedule, oc_gate, detuninig):\n",
    "    schedule += measure << schedule.duration\n",
    "    return get_expectation_value_with_detuning(schedule, detuninig)"
   ]
  },
  {
   "cell_type": "code",
   "execution_count": 229,
   "metadata": {},
   "outputs": [],
   "source": [
    "def initialized_schedule(init_state, oc_gate):\n",
    "    schedule = pulse.Schedule()\n",
    "    if init_state == '0':\n",
    "        pass\n",
    "    elif init_state == '1':\n",
    "        schedule += Play(oc_gate['X'], drive_chan)\n",
    "    elif init_state == '+':\n",
    "        schedule += Play(oc_gate['Y/2'], drive_chan)\n",
    "    elif init_state == '-':\n",
    "        schedule += Play(oc_gate['-X/2'], drive_chan)\n",
    "    else:\n",
    "        assert \"init_state is not stated in this function\"\n",
    "    return schedule"
   ]
  },
  {
   "cell_type": "code",
   "execution_count": 230,
   "metadata": {},
   "outputs": [],
   "source": [
    "# objective_gate is an obective gate to calculate gate fidelity\n",
    "# oc_gate is a category(smooth_optimal_control or gaussian_optimal_control ...) of base gates(ex X, Y, X/2, etc.)\n",
    "import copy\n",
    "def get_density_matrix(objective_gate, oc_gate, init_state, detuning):\n",
    "    schedule = pulse.Schedule()\n",
    "    schedule_init = initialized_schedule(init_state, oc_gate)\n",
    "    schedule_init += Play(objective_gate, drive_chan)\n",
    "    x_expect = x_expect_value(copy.deepcopy(schedule_init), oc_gate, detuning)\n",
    "    y_expect = y_expect_value(copy.deepcopy(schedule_init), oc_gate, detuning)\n",
    "    z_expect = z_expect_value(copy.deepcopy(schedule_init), oc_gate, detuning)\n",
    "    return density_matrix(x_expect, y_expect, y_expect)\n",
    "    "
   ]
  },
  {
   "cell_type": "code",
   "execution_count": 231,
   "metadata": {},
   "outputs": [],
   "source": [
    "def gate_tomography(objective_gate, oc_gate, detuning):\n",
    "    density_matrice_results = {}\n",
    "    init_states = ['0', '1', '+', '-']\n",
    "    pi_density_matrices = np.array([get_density_matrix(objective_gate, oc_gate, init_state, detuning) for init_state in init_states])\n",
    "    pi_process_matrix = calculate_process_matrix(pi_density_matrices)\n",
    "    adjust_process_matrix(pi_process_matrix)\n",
    "    return pi_process_matrix"
   ]
  },
  {
   "cell_type": "code",
   "execution_count": 232,
   "metadata": {},
   "outputs": [],
   "source": [
    "def plot_density_matrix(data_array):\n",
    "    from mpl_toolkits.mplot3d import Axes3D\n",
    "    import matplotlib.pyplot as plt\n",
    "    fig = plt.figure()\n",
    "    ax = fig.add_subplot(111, projection='3d')\n",
    "    x_data, y_data = np.meshgrid( np.arange(4),\n",
    "                                  np.arange(4))\n",
    "    x_data = x_data.flatten()\n",
    "    y_data = y_data.flatten()\n",
    "    z_data = data_array.flatten()\n",
    "    ax.bar3d( x_data,\n",
    "              y_data,\n",
    "              0.5*np.zeros(len(z_data)),\n",
    "              0.8, 0.8, z_data )\n",
    "    #\n",
    "    # Finally, display the plot.\n",
    "    #\n",
    "    plt.show()\n",
    "\n",
    "\n",
    "    # Construct arrays with the dimensions for the 16 bars."
   ]
  },
  {
   "cell_type": "markdown",
   "metadata": {},
   "source": [
    "### Tomography results"
   ]
  },
  {
   "cell_type": "code",
   "execution_count": null,
   "metadata": {},
   "outputs": [
    {
     "name": "stdout",
     "output_type": "stream",
     "text": [
      "Job Status: job has successfully run\n",
      "{'0': 531, '1': 493}\n",
      "Job Status: job is actively running"
     ]
    }
   ],
   "source": [
    "pi_process_matrix = gate_tomography(gaussian_optimal_control.gate['X'], gaussian_optimal_control.gate, detuning = 0)\n",
    "print(pi_process_matrix)\n",
    "plot_density_matrix(pi_process_matrix)"
   ]
  },
  {
   "cell_type": "code",
   "execution_count": null,
   "metadata": {},
   "outputs": [],
   "source": [
    "pi_process_matrix = gate_tomography(smooth_optimal_control.gate['X'], smooth_optimal_control.gate, detuning = 0)\n",
    "plot_density_matrix(pi_process_matrix)"
   ]
  },
  {
   "cell_type": "code",
   "execution_count": null,
   "metadata": {},
   "outputs": [],
   "source": [
    "pi_process_matrix = gate_tomography(gaussian_optimal_control.gate['X'], gaussian_optimal_control.gate, detuning = 1*MHz)\n",
    "plot_density_matrix(pi_process_matrix)"
   ]
  },
  {
   "cell_type": "code",
   "execution_count": null,
   "metadata": {},
   "outputs": [],
   "source": [
    "pi_process_matrix = gate_tomography(smooth_optimal_control.gate['X'], smooth_optimal_control.gate, detuning = 1*MHz)\n",
    "plot_density_matrix(pi_process_matrix)"
   ]
  }
 ],
 "metadata": {
  "interpreter": {
   "hash": "1f432a864ca7f1c72301329ba221939b7478709eb63462f5da729ce6b8c04d40"
  },
  "kernelspec": {
   "display_name": "Python 3",
   "language": "python",
   "name": "python3"
  },
  "language_info": {
   "codemirror_mode": {
    "name": "ipython",
    "version": 3
   },
   "file_extension": ".py",
   "mimetype": "text/x-python",
   "name": "python",
   "nbconvert_exporter": "python",
   "pygments_lexer": "ipython3",
   "version": "3.7.0"
  }
 },
 "nbformat": 4,
 "nbformat_minor": 4
}
